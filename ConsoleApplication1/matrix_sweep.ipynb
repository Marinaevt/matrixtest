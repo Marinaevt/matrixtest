{
 "cells": [
  {
   "cell_type": "markdown",
   "metadata": {},
   "source": [
    "# Метод прогонки для трехдиагональных матриц и матриц с большим числом диагоналей"
   ]
  },
  {
   "cell_type": "markdown",
   "metadata": {},
   "source": [
    "Основные идеи:\n",
    "\n",
    "1. Компактность хранения. Если матрица из N строк имеет K диагоналей, то её можно хранить в массиве размера (N, K). Отсюда следует специфичность индексации и формирования массива.\n",
    "    \n",
    "2. Прогонка - это тоже самое, что метод Гаусса, только исключать i-ю неизвестную нужно из малого числа строк (при одной поддиагонали - только из одной следующей строки)."
   ]
  },
  {
   "cell_type": "markdown",
   "metadata": {},
   "source": [
    "А.А.Самарский, Е.С.Николаев \"Методы решений сеточных уравнений\", \"Наука\", М.:1978\n",
    "стр. 76"
   ]
  },
  {
   "cell_type": "code",
   "execution_count": 8,
   "metadata": {
    "collapsed": true
   },
   "outputs": [],
   "source": [
    "import math\n",
    "import numpy as np\n",
    "np.set_printoptions(precision=5, suppress=True)\n",
    "import matplotlib.pyplot as plt\n",
    "%matplotlib inline"
   ]
  },
  {
   "cell_type": "code",
   "execution_count": 9,
   "metadata": {
    "collapsed": false
   },
   "outputs": [
    {
     "data": {
      "text/html": [
       "<style>.container { width:60% !important; }</style>"
      ],
      "text/plain": [
       "<IPython.core.display.HTML object>"
      ]
     },
     "metadata": {},
     "output_type": "display_data"
    }
   ],
   "source": [
    "from IPython.core.display import display, HTML\n",
    "display(HTML(\"<style>.container { width:60% !important; }</style>\"))"
   ]
  },
  {
   "cell_type": "markdown",
   "metadata": {},
   "source": [
    "# Решение для полной матрицы с одной поддиагональю"
   ]
  },
  {
   "cell_type": "code",
   "execution_count": 10,
   "metadata": {
    "collapsed": false
   },
   "outputs": [
    {
     "data": {
      "text/plain": [
       "<matplotlib.image.AxesImage at 0x2903c9e49e8>"
      ]
     },
     "execution_count": 10,
     "metadata": {},
     "output_type": "execute_result"
    },
    {
     "data": {
      "image/png": "[encoded data removed]",
      "text/plain": [
       "<matplotlib.figure.Figure at 0x2903c89a9b0>"
      ]
     },
     "metadata": {},
     "output_type": "display_data"
    }
   ],
   "source": [
    "N = 10\n",
    "A = np.float64(np.diag([1000]*N) + np.diag([1]*(N-1), 1) + np.diag([1]*(N-1), -1) + np.diag([1]*(N-3), 3))\n",
    "plt.spy(A)"
   ]
  },
  {
   "cell_type": "code",
   "execution_count": 11,
   "metadata": {
    "collapsed": false
   },
   "outputs": [
    {
     "data": {
      "text/plain": [
       "array([[  1.,   2.,   3.,   4.,   5.,   6.,   7.,   8.,   9.,  10.]])"
      ]
     },
     "execution_count": 11,
     "metadata": {},
     "output_type": "execute_result"
    }
   ],
   "source": [
    "b = np.float64(np.array(range(1,N+1))[:,np.newaxis])\n",
    "b.T"
   ]
  },
  {
   "cell_type": "code",
   "execution_count": 12,
   "metadata": {
    "collapsed": false
   },
   "outputs": [
    {
     "data": {
      "text/plain": [
       "<matplotlib.image.AxesImage at 0x2903ca40240>"
      ]
     },
     "execution_count": 12,
     "metadata": {},
     "output_type": "execute_result"
    },
    {
     "data": {
      "image/png": "[encoded data removed]",
      "text/plain": [
       "<matplotlib.figure.Figure at 0x2903c915668>"
      ]
     },
     "metadata": {},
     "output_type": "display_data"
    }
   ],
   "source": [
    "B = np.hstack((A.copy(), b.copy()))\n",
    "plt.spy(B)"
   ]
  },
  {
   "cell_type": "code",
   "execution_count": 13,
   "metadata": {
    "collapsed": false
   },
   "outputs": [
    {
     "name": "stdout",
     "output_type": "stream",
     "text": [
      "[[ 1.       0.001    0.       0.001    0.       0.       0.       0.       0.\n",
      "   0.       0.001  ]\n",
      " [ 0.       1.       0.001   -0.       0.001    0.       0.       0.       0.\n",
      "   0.       0.002  ]\n",
      " [ 0.       0.       1.       0.001   -0.       0.001    0.       0.       0.\n",
      "   0.       0.003  ]\n",
      " [ 0.       0.       0.       1.       0.001   -0.       0.001    0.       0.\n",
      "   0.       0.004  ]\n",
      " [ 0.       0.       0.       0.       1.       0.001   -0.       0.001    0.\n",
      "   0.       0.005  ]\n",
      " [ 0.       0.       0.       0.       0.       1.       0.001   -0.       0.001\n",
      "   0.       0.006  ]\n",
      " [ 0.       0.       0.       0.       0.       0.       1.       0.001   -0.\n",
      "   0.001    0.00699]\n",
      " [ 0.       0.       0.       0.       0.       0.       0.       1.       0.001\n",
      "  -0.       0.00799]\n",
      " [ 0.       0.       0.       0.       0.       0.       0.       0.       1.\n",
      "   0.001    0.00899]\n",
      " [ 0.       0.       0.       0.       0.       0.       0.       0.       0.\n",
      "   1.       0.00999]]\n"
     ]
    },
    {
     "data": {
      "image/png": "[encoded data removed]",
      "text/plain": [
       "<matplotlib.figure.Figure at 0x2903ca15048>"
      ]
     },
     "metadata": {},
     "output_type": "display_data"
    }
   ],
   "source": [
    "# прямой ход метода прогонки в случае с одной поддиагональю и любым числом наддиагоналей\n",
    "for i in range(N):\n",
    "    B[i] = B[i] / B[i, i] # разделить i-ю строку на диагональный элемент\n",
    "    if (i+1 < N):\n",
    "        B[i+1] -= B[i] * B[i+1, i] # вычесть из следующей строки i-ю, умноженную на поддиагональный элемент\n",
    "plt.spy(B)\n",
    "print(B)"
   ]
  },
  {
   "cell_type": "code",
   "execution_count": 14,
   "metadata": {
    "collapsed": false
   },
   "outputs": [
    {
     "ename": "NameError",
     "evalue": "name 'ovrK' is not defined",
     "output_type": "error",
     "traceback": [
      "\u001b[1;31m---------------------------------------------------------------------------\u001b[0m",
      "\u001b[1;31mNameError\u001b[0m                                 Traceback (most recent call last)",
      "\u001b[1;32m<ipython-input-14-7b54e2bcabe9>\u001b[0m in \u001b[0;36m<module>\u001b[1;34m()\u001b[0m\n\u001b[0;32m      3\u001b[0m \u001b[0mx\u001b[0m\u001b[1;33m[\u001b[0m\u001b[0mN\u001b[0m\u001b[1;33m-\u001b[0m\u001b[1;36m1\u001b[0m\u001b[1;33m]\u001b[0m \u001b[1;33m=\u001b[0m \u001b[0mB\u001b[0m\u001b[1;33m[\u001b[0m\u001b[0mN\u001b[0m\u001b[1;33m-\u001b[0m\u001b[1;36m1\u001b[0m\u001b[1;33m,\u001b[0m\u001b[0mN\u001b[0m\u001b[1;33m]\u001b[0m \u001b[1;31m# вычисление последнего неизвестного\u001b[0m\u001b[1;33m\u001b[0m\u001b[0m\n\u001b[0;32m      4\u001b[0m \u001b[1;32mfor\u001b[0m \u001b[0mj\u001b[0m \u001b[1;32min\u001b[0m \u001b[0mrange\u001b[0m\u001b[1;33m(\u001b[0m\u001b[0mN\u001b[0m\u001b[1;33m-\u001b[0m\u001b[1;36m2\u001b[0m\u001b[1;33m,\u001b[0m\u001b[1;33m-\u001b[0m\u001b[1;36m1\u001b[0m\u001b[1;33m,\u001b[0m\u001b[1;33m-\u001b[0m\u001b[1;36m1\u001b[0m\u001b[1;33m)\u001b[0m\u001b[1;33m:\u001b[0m\u001b[1;33m\u001b[0m\u001b[0m\n\u001b[1;32m----> 5\u001b[1;33m     \u001b[0ml\u001b[0m \u001b[1;33m=\u001b[0m \u001b[0mmin\u001b[0m\u001b[1;33m(\u001b[0m\u001b[1;33m[\u001b[0m\u001b[0mN\u001b[0m\u001b[1;33m-\u001b[0m\u001b[0mj\u001b[0m\u001b[1;33m,\u001b[0m \u001b[0movrK\u001b[0m\u001b[1;33m+\u001b[0m\u001b[1;36m1\u001b[0m\u001b[1;33m]\u001b[0m\u001b[1;33m)\u001b[0m\u001b[1;33m\u001b[0m\u001b[0m\n\u001b[0m\u001b[0;32m      6\u001b[0m     \u001b[0mx\u001b[0m\u001b[1;33m[\u001b[0m\u001b[0mj\u001b[0m\u001b[1;33m]\u001b[0m \u001b[1;33m=\u001b[0m \u001b[1;33m(\u001b[0m\u001b[0mB\u001b[0m\u001b[1;33m[\u001b[0m\u001b[0mj\u001b[0m\u001b[1;33m,\u001b[0m\u001b[0mN\u001b[0m\u001b[1;33m]\u001b[0m \u001b[1;33m-\u001b[0m \u001b[0mnp\u001b[0m\u001b[1;33m.\u001b[0m\u001b[0mdot\u001b[0m\u001b[1;33m(\u001b[0m\u001b[0mB\u001b[0m\u001b[1;33m[\u001b[0m\u001b[0mj\u001b[0m\u001b[1;33m,\u001b[0m\u001b[0mj\u001b[0m\u001b[1;33m+\u001b[0m\u001b[1;36m1\u001b[0m\u001b[1;33m:\u001b[0m\u001b[0mj\u001b[0m\u001b[1;33m+\u001b[0m\u001b[0ml\u001b[0m\u001b[1;33m]\u001b[0m\u001b[1;33m,\u001b[0m\u001b[0mx\u001b[0m\u001b[1;33m[\u001b[0m\u001b[0mj\u001b[0m\u001b[1;33m+\u001b[0m\u001b[1;36m1\u001b[0m\u001b[1;33m:\u001b[0m\u001b[0mj\u001b[0m\u001b[1;33m+\u001b[0m\u001b[0ml\u001b[0m\u001b[1;33m]\u001b[0m\u001b[1;33m)\u001b[0m\u001b[1;33m)\u001b[0m\u001b[1;33m\u001b[0m\u001b[0m\n\u001b[0;32m      7\u001b[0m \u001b[0mx\u001b[0m\u001b[1;33m.\u001b[0m\u001b[0mT\u001b[0m\u001b[1;33m\u001b[0m\u001b[0m\n",
      "\u001b[1;31mNameError\u001b[0m: name 'ovrK' is not defined"
     ]
    }
   ],
   "source": [
    "# обратный ход\n",
    "x = np.zeros((N, 1))\n",
    "x[N-1] = B[N-1,N] # вычисление последнего неизвестного\n",
    "for j in range(N-2,-1,-1):\n",
    "    l = min([N-j, ovrK+1])\n",
    "    x[j] = (B[j,N] - np.dot(B[j,j+1:j+l],x[j+1:j+l]))\n",
    "x.T"
   ]
  },
  {
   "cell_type": "code",
   "execution_count": 68,
   "metadata": {
    "collapsed": false
   },
   "outputs": [
    {
     "data": {
      "text/plain": [
       "array([[ 0.00099,  0.00199,  0.00299,  0.00399,  0.00498,  0.00598,\n",
       "         0.00698,  0.00798,  0.00898,  0.00999]])"
      ]
     },
     "execution_count": 68,
     "metadata": {},
     "output_type": "execute_result"
    }
   ],
   "source": [
    "# проверка решения\n",
    "xg = np.linalg.solve(A, b)\n",
    "xg.T"
   ]
  },
  {
   "cell_type": "code",
   "execution_count": 69,
   "metadata": {
    "collapsed": false
   },
   "outputs": [
    {
     "data": {
      "text/plain": [
       "4.3368086899420177e-19"
      ]
     },
     "execution_count": 69,
     "metadata": {},
     "output_type": "execute_result"
    }
   ],
   "source": [
    "np.linalg.norm(x - xg)"
   ]
  },
  {
   "cell_type": "markdown",
   "metadata": {},
   "source": [
    "# Решение для полной матрицы с любым числом диагоналей"
   ]
  },
  {
   "cell_type": "code",
   "execution_count": 27,
   "metadata": {
    "collapsed": false
   },
   "outputs": [
    {
     "data": {
      "text/plain": [
       "(array([-5, -3, -1,  0,  1,  3,  5]), 11, -5, 5)"
      ]
     },
     "execution_count": 27,
     "metadata": {},
     "output_type": "execute_result"
    }
   ],
   "source": [
    "filled = {-3:1, -5:1, -1:1, 0:1000, 1:1, 3:1, 5:1} # словарь, где указаны индексы диагоналей и значения на них\n",
    "di = np.array(sorted(filled.keys())) # отсортированный список индексов диагоналей\n",
    "subK = np.min(di)\n",
    "ovrK = np.max(di)\n",
    "K = ovrK - subK + 1\n",
    "di, K, subK, ovrK"
   ]
  },
  {
   "cell_type": "code",
   "execution_count": 28,
   "metadata": {
    "collapsed": false
   },
   "outputs": [],
   "source": [
    "fullA = np.zeros((N, N))\n",
    "for i in di:\n",
    "    fullA += np.diag([filled[i]]*(N-np.abs(i)), i)"
   ]
  },
  {
   "cell_type": "code",
   "execution_count": 29,
   "metadata": {
    "collapsed": true
   },
   "outputs": [],
   "source": [
    "with open('ftest.txt', 'w') as f:\n",
    "    for _list in b:\n",
    "        for _string in _list:\n",
    "            f.write(str(_string) + '\\n')"
   ]
  },
  {
   "cell_type": "code",
   "execution_count": 30,
   "metadata": {
    "collapsed": false,
    "scrolled": true
   },
   "outputs": [
    {
     "name": "stdout",
     "output_type": "stream",
     "text": [
      "[[ 1000.     1.     0.     1.     0.     1.     0.     0.     0.     0.]\n",
      " [    1.  1000.     1.     0.     1.     0.     1.     0.     0.     0.]\n",
      " [    0.     1.  1000.     1.     0.     1.     0.     1.     0.     0.]\n",
      " [    1.     0.     1.  1000.     1.     0.     1.     0.     1.     0.]\n",
      " [    0.     1.     0.     1.  1000.     1.     0.     1.     0.     1.]\n",
      " [    1.     0.     1.     0.     1.  1000.     1.     0.     1.     0.]\n",
      " [    0.     1.     0.     1.     0.     1.  1000.     1.     0.     1.]\n",
      " [    0.     0.     1.     0.     1.     0.     1.  1000.     1.     0.]\n",
      " [    0.     0.     0.     1.     0.     1.     0.     1.  1000.     1.]\n",
      " [    0.     0.     0.     0.     1.     0.     1.     0.     1.  1000.]]\n"
     ]
    },
    {
     "data": {
      "text/plain": [
       "<matplotlib.image.AxesImage at 0x2903cc2e828>"
      ]
     },
     "execution_count": 30,
     "metadata": {},
     "output_type": "execute_result"
    },
    {
     "data": {
      "image/png": "[encoded data removed]",
      "text/plain": [
       "<matplotlib.figure.Figure at 0x2903cb8bc88>"
      ]
     },
     "metadata": {},
     "output_type": "display_data"
    }
   ],
   "source": [
    "print(fullA)\n",
    "with open('matrixtest.txt', 'w') as f:\n",
    "    for _list in fullA:\n",
    "        for _string in _list:\n",
    "            #f.seek(0)\n",
    "            f.write(str(_string) + ' ')\n",
    "        f.write(str(_string) + '\\n')\n",
    "plt.spy(fullA)"
   ]
  },
  {
   "cell_type": "code",
   "execution_count": 18,
   "metadata": {
    "collapsed": false
   },
   "outputs": [
    {
     "name": "stdout",
     "output_type": "stream",
     "text": [
      "[[ 1.       0.001    0.       0.001    0.       0.001    0.       0.       0.\n",
      "   0.       0.001  ]\n",
      " [ 0.       1.       0.001   -0.       0.001   -0.       0.001    0.       0.\n",
      "   0.       0.002  ]\n",
      " [ 0.       0.       1.       0.001   -0.       0.001   -0.       0.001    0.\n",
      "   0.       0.003  ]\n",
      " [ 0.       0.       0.       1.       0.001   -0.       0.001   -0.       0.001\n",
      "   0.       0.004  ]\n",
      " [ 0.       0.       0.       0.       1.       0.001   -0.       0.001   -0.\n",
      "   0.001    0.005  ]\n",
      " [ 0.       0.       0.       0.       0.       1.       0.001   -0.       0.001\n",
      "  -0.       0.006  ]\n",
      " [ 0.       0.       0.       0.       0.       0.       1.       0.001   -0.\n",
      "   0.001    0.00699]\n",
      " [ 0.       0.       0.       0.       0.       0.       0.       1.       0.001\n",
      "  -0.       0.00799]\n",
      " [ 0.       0.       0.       0.       0.       0.       0.       0.       1.\n",
      "   0.001    0.00899]\n",
      " [ 0.       0.       0.       0.       0.       0.       0.       0.       0.\n",
      "   1.       0.00999]]\n"
     ]
    },
    {
     "data": {
      "text/plain": [
       "<matplotlib.image.AxesImage at 0x2903cb0bbe0>"
      ]
     },
     "execution_count": 18,
     "metadata": {},
     "output_type": "execute_result"
    },
    {
     "data": {
      "image/png": "[encoded data removed]",
      "text/plain": [
       "<matplotlib.figure.Figure at 0x2903ca5cef0>"
      ]
     },
     "metadata": {},
     "output_type": "display_data"
    }
   ],
   "source": [
    "fullB = np.hstack((fullA.copy(), b.copy()))\n",
    "\n",
    "for i in range(N): \n",
    "    fullB[i] = fullB[i] / fullB[i, i] # разделить i-ю строку на диагональный элемент\n",
    "    for j in range(-1, subK-1, -1): #subD\n",
    "        if (i-j < N) :\n",
    "            fullB[i-j] -= fullB[i] * fullB[i-j, i]\n",
    "print(fullB)\n",
    "plt.spy(fullB)"
   ]
  },
  {
   "cell_type": "code",
   "execution_count": 19,
   "metadata": {
    "collapsed": false
   },
   "outputs": [
    {
     "name": "stdout",
     "output_type": "stream",
     "text": [
      "[[ 0.00099  0.00198  0.00298  0.00398  0.00497  0.00598  0.00698  0.00798\n",
      "   0.00898  0.00999]]\n"
     ]
    }
   ],
   "source": [
    "# обратный ход\n",
    "x = np.zeros((N, 1))\n",
    "x[N-1] = fullB[N-1,N] # вычисление последнего неизвестного\n",
    "for j in range(N-2,-1,-1):\n",
    "    l = min([N-j, ovrK+1])\n",
    "    x[j] = (fullB[j,N] - np.dot(fullB[j,j+1:j+l],x[j+1:j+l]))\n",
    "    #x[j] = (fullB[j,N] - np.dot(fullB[j,j+1:N],x[j+1:]))\n",
    "print(x.T)"
   ]
  },
  {
   "cell_type": "code",
   "execution_count": 20,
   "metadata": {
    "collapsed": false
   },
   "outputs": [
    {
     "name": "stdout",
     "output_type": "stream",
     "text": [
      "[[ 0.00099  0.00198  0.00298  0.00398  0.00497  0.00598  0.00698  0.00798\n",
      "   0.00898  0.00999]]\n"
     ]
    }
   ],
   "source": [
    "xg = np.linalg.solve(fullA, b)\n",
    "print(xg.T)"
   ]
  },
  {
   "cell_type": "code",
   "execution_count": 21,
   "metadata": {
    "collapsed": false
   },
   "outputs": [
    {
     "data": {
      "text/plain": [
       "1.5178830414797062e-18"
      ]
     },
     "execution_count": 21,
     "metadata": {},
     "output_type": "execute_result"
    }
   ],
   "source": [
    "np.linalg.norm(x - xg)"
   ]
  },
  {
   "cell_type": "markdown",
   "metadata": {},
   "source": [
    "# Решение для компактной матрицы"
   ]
  },
  {
   "cell_type": "code",
   "execution_count": 43,
   "metadata": {
    "collapsed": false
   },
   "outputs": [
    {
     "data": {
      "text/plain": [
       "{-1: 1, 0: 1000, 1: 1, 3: 1, 5: 1}"
      ]
     },
     "execution_count": 43,
     "metadata": {},
     "output_type": "execute_result"
    }
   ],
   "source": [
    "filled"
   ]
  },
  {
   "cell_type": "code",
   "execution_count": 44,
   "metadata": {
    "collapsed": false
   },
   "outputs": [],
   "source": [
    "# заполнение компактной матрицы (N, K)\n",
    "A = np.zeros((N, K))\n",
    "for i in di:\n",
    "    j = i + np.abs(subK)\n",
    "    if i <= 0:\n",
    "        A[-i:, j] = filled[i]\n",
    "    else:\n",
    "        A[:-i, j] = filled[i]"
   ]
  },
  {
   "cell_type": "code",
   "execution_count": 45,
   "metadata": {
    "collapsed": false
   },
   "outputs": [
    {
     "name": "stdout",
     "output_type": "stream",
     "text": [
      "[[    0.  1000.     1.     0.     1.     0.     1.]\n",
      " [    1.  1000.     1.     0.     1.     0.     1.]\n",
      " [    1.  1000.     1.     0.     1.     0.     1.]\n",
      " [    1.  1000.     1.     0.     1.     0.     1.]\n",
      " [    1.  1000.     1.     0.     1.     0.     1.]\n",
      " [    1.  1000.     1.     0.     1.     0.     0.]\n",
      " [    1.  1000.     1.     0.     1.     0.     0.]\n",
      " [    1.  1000.     1.     0.     0.     0.     0.]\n",
      " [    1.  1000.     1.     0.     0.     0.     0.]\n",
      " [    1.  1000.     0.     0.     0.     0.     0.]]\n"
     ]
    },
    {
     "data": {
      "text/plain": [
       "<matplotlib.image.AxesImage at 0x25f57d6ba90>"
      ]
     },
     "execution_count": 45,
     "metadata": {},
     "output_type": "execute_result"
    },
    {
     "data": {
      "image/png": "[encoded data removed]",
      "text/plain": [
       "<matplotlib.figure.Figure at 0x25f57cdb4a8>"
      ]
     },
     "metadata": {},
     "output_type": "display_data"
    }
   ],
   "source": [
    "print(A)\n",
    "plt.spy(A)"
   ]
  },
  {
   "cell_type": "code",
   "execution_count": 46,
   "metadata": {
    "collapsed": false
   },
   "outputs": [
    {
     "data": {
      "text/plain": [
       "array([[  1.,   2.,   3.,   4.,   5.,   6.,   7.,   8.,   9.,  10.]])"
      ]
     },
     "execution_count": 46,
     "metadata": {},
     "output_type": "execute_result"
    }
   ],
   "source": [
    "b = np.float64(np.array(range(1,N+1))[:,np.newaxis])\n",
    "b.T"
   ]
  },
  {
   "cell_type": "code",
   "execution_count": 47,
   "metadata": {
    "collapsed": false
   },
   "outputs": [
    {
     "data": {
      "text/plain": [
       "1"
      ]
     },
     "execution_count": 47,
     "metadata": {},
     "output_type": "execute_result"
    }
   ],
   "source": [
    "# индекс главной диагонали\n",
    "maind = -subK\n",
    "maind"
   ]
  },
  {
   "cell_type": "code",
   "execution_count": 48,
   "metadata": {
    "collapsed": false,
    "scrolled": false
   },
   "outputs": [
    {
     "name": "stdout",
     "output_type": "stream",
     "text": [
      "[[ 0.     1.     0.001  0.     0.001  0.     0.001]\n",
      " [ 0.     1.     0.001 -0.     0.001 -0.     0.001]\n",
      " [ 0.     1.     0.001 -0.     0.001 -0.     0.001]\n",
      " [ 0.     1.     0.001 -0.     0.001 -0.     0.001]\n",
      " [ 0.     1.     0.001 -0.     0.001 -0.     0.001]\n",
      " [ 0.     1.     0.001 -0.     0.001 -0.     0.   ]\n",
      " [ 0.     1.     0.001 -0.     0.001  0.     0.   ]\n",
      " [ 0.     1.     0.001 -0.     0.     0.     0.   ]\n",
      " [ 0.     1.     0.001  0.     0.     0.     0.   ]\n",
      " [ 0.     1.     0.     0.     0.     0.     0.   ]]\n",
      "[[ 0.001  ]\n",
      " [ 0.002  ]\n",
      " [ 0.003  ]\n",
      " [ 0.004  ]\n",
      " [ 0.005  ]\n",
      " [ 0.006  ]\n",
      " [ 0.00699]\n",
      " [ 0.00799]\n",
      " [ 0.00899]\n",
      " [ 0.00999]]\n"
     ]
    },
    {
     "data": {
      "image/png": "[encoded data removed]",
      "text/plain": [
       "<matplotlib.figure.Figure at 0x25f57d82d30>"
      ]
     },
     "metadata": {},
     "output_type": "display_data"
    }
   ],
   "source": [
    "B = A.copy()\n",
    "d = b.copy()\n",
    "for i in range(N): \n",
    "    Bii = B[i, maind].copy()\n",
    "    B[i] = B[i] / Bii # разделить i-ю строку на диагональный элемент\n",
    "    d[i] = d[i] / Bii\n",
    "    for j in range(-1, subK-1, -1): # исключение i-й неизвестной из всех уравнений ниже (их -subK штук)\n",
    "        if (i-j < N):\n",
    "            Bij = B[i-j, maind+j].copy()\n",
    "            B[i-j, maind+j:j] -= B[i, maind:] * Bij\n",
    "            d[i-j] -= d[i] * Bij\n",
    "print(B)\n",
    "plt.spy(B)\n",
    "print(d)"
   ]
  },
  {
   "cell_type": "code",
   "execution_count": 49,
   "metadata": {
    "collapsed": false
   },
   "outputs": [
    {
     "name": "stdout",
     "output_type": "stream",
     "text": [
      "[[ 0.     1.     0.001  0.     0.001  0.     0.001]\n",
      " [ 0.     1.     0.001 -0.     0.001 -0.     0.001]\n",
      " [ 0.     1.     0.001 -0.     0.001 -0.     0.001]\n",
      " [ 0.     1.     0.001 -0.     0.001 -0.     0.001]\n",
      " [ 0.     1.     0.001 -0.     0.001 -0.     0.001]\n",
      " [ 0.     1.     0.001 -0.     0.001 -0.     0.   ]\n",
      " [ 0.     1.     0.001 -0.     0.001  0.     0.   ]\n",
      " [ 0.     1.     0.001 -0.     0.     0.     0.   ]\n",
      " [ 0.     1.     0.001  0.     0.     0.     0.   ]\n",
      " [ 0.     1.     0.     0.     0.     0.     0.   ]]\n",
      "[[ 0.001  ]\n",
      " [ 0.002  ]\n",
      " [ 0.003  ]\n",
      " [ 0.004  ]\n",
      " [ 0.005  ]\n",
      " [ 0.006  ]\n",
      " [ 0.00699]\n",
      " [ 0.00799]\n",
      " [ 0.00899]\n",
      " [ 0.00999]]\n"
     ]
    },
    {
     "data": {
      "image/png": "[encoded data removed]",
      "text/plain": [
       "<matplotlib.figure.Figure at 0x25f57de8668>"
      ]
     },
     "metadata": {},
     "output_type": "display_data"
    }
   ],
   "source": [
    "# вариант с roll\n",
    "B = A.copy()\n",
    "d = b.copy()\n",
    "fig, ax = plt.subplots(N // 4 + 1, 4)\n",
    "fig.set_size_inches(12, 12)\n",
    "for i in range(N): \n",
    "    Bii = B[i, maind].copy()\n",
    "    B[i] = B[i] / Bii # разделить i-ю строку на диагональный элемент\n",
    "    d[i] = d[i] / Bii\n",
    "    for j in range(-1, subK-1, -1): # исключение i-й неизвестной из всех уравнений ниже (их -subK штук)\n",
    "        if (i-j < N):\n",
    "            Bij = B[i-j, maind+j].copy()\n",
    "            B[i-j] -= np.roll(B[i], j) * Bij\n",
    "            d[i-j] -= d[i] * Bij\n",
    "    ax[i//4, i%4].spy(B)\n",
    "    ax[i//4, i%4].set_aspect('equal')\n",
    "\n",
    "\n",
    "fig.tight_layout()\n",
    "print(B)\n",
    "print(d)"
   ]
  },
  {
   "cell_type": "code",
   "execution_count": 50,
   "metadata": {
    "collapsed": false
   },
   "outputs": [
    {
     "name": "stdout",
     "output_type": "stream",
     "text": [
      "[[ 0.00099  0.00198  0.00298  0.00398  0.00497  0.00598  0.00698  0.00798\n",
      "   0.00898  0.00999]]\n"
     ]
    }
   ],
   "source": [
    "# обратный ход\n",
    "x = np.zeros((N, 1))\n",
    "x[N-1] = d[N-1] # вычисление последнего неизвестного\n",
    "for j in range(N-2,-1,-1):\n",
    "    l = min([N-j, ovrK+1])\n",
    "    #print(l)\n",
    "    x[j] = d[j] - np.dot(B[j,maind+1:maind+l],x[j+1:j+l])\n",
    "print(x.T)"
   ]
  },
  {
   "cell_type": "code",
   "execution_count": 51,
   "metadata": {
    "collapsed": false
   },
   "outputs": [
    {
     "name": "stdout",
     "output_type": "stream",
     "text": [
      "[[ 0.00099  0.00198  0.00298  0.00398  0.00497  0.00598  0.00698  0.00798\n",
      "   0.00898  0.00999]]\n"
     ]
    }
   ],
   "source": [
    "xg = np.linalg.solve(fullA, b)\n",
    "print(xg.T)"
   ]
  },
  {
   "cell_type": "code",
   "execution_count": 52,
   "metadata": {
    "collapsed": false,
    "scrolled": true
   },
   "outputs": [
    {
     "data": {
      "text/plain": [
       "1.5178830414797062e-18"
      ]
     },
     "execution_count": 52,
     "metadata": {},
     "output_type": "execute_result"
    }
   ],
   "source": [
    "np.linalg.norm(xg - x)"
   ]
  },
  {
   "cell_type": "code",
   "execution_count": null,
   "metadata": {
    "collapsed": true
   },
   "outputs": [],
   "source": []
  }
 ],
 "metadata": {
  "kernelspec": {
   "display_name": "Python [Root]",
   "language": "python",
   "name": "Python [Root]"
  },
  "language_info": {
   "codemirror_mode": {
    "name": "ipython",
    "version": 3
   },
   "file_extension": ".py",
   "mimetype": "text/x-python",
   "name": "python",
   "nbconvert_exporter": "python",
   "pygments_lexer": "ipython3",
   "version": "3.5.2"
  }
 },
 "nbformat": 4,
 "nbformat_minor": 2
}
